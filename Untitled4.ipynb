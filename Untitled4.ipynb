{
  "nbformat": 4,
  "nbformat_minor": 0,
  "metadata": {
    "colab": {
      "provenance": [],
      "authorship_tag": "ABX9TyNvNCUPCqNTNxtSCi+2LMfs",
      "include_colab_link": true
    },
    "kernelspec": {
      "name": "python3",
      "display_name": "Python 3"
    },
    "language_info": {
      "name": "python"
    }
  },
  "cells": [
    {
      "cell_type": "markdown",
      "metadata": {
        "id": "view-in-github",
        "colab_type": "text"
      },
      "source": [
        "<a href=\"https://colab.research.google.com/github/Ayikanying-ux/basic_text_classification/blob/main/Untitled4.ipynb\" target=\"_parent\"><img src=\"https://colab.research.google.com/assets/colab-badge.svg\" alt=\"Open In Colab\"/></a>"
      ]
    },
    {
      "cell_type": "markdown",
      "source": [
        "## Basic text classification\n",
        "In this project, we will train a binary classifier to perform sentiment analysis on an IMDB dataset."
      ],
      "metadata": {
        "id": "iJPwkRVi0jOa"
      }
    },
    {
      "cell_type": "code",
      "execution_count": 1,
      "metadata": {
        "id": "Y5h9EPAX0UkT"
      },
      "outputs": [],
      "source": [
        "import matplotlib.pyplot as plt\n",
        "import os\n",
        "import re\n",
        "import shutil\n",
        "import string\n",
        "import tensorflow as tf\n",
        "\n",
        "from tensorflow.keras import layers\n",
        "from tensorflow.keras import losses"
      ]
    },
    {
      "cell_type": "code",
      "source": [
        "print(tf.__version__)"
      ],
      "metadata": {
        "colab": {
          "base_uri": "https://localhost:8080/"
        },
        "id": "pxVqqO661LbT",
        "outputId": "e9c1f366-974e-448c-b53a-e46605cf28e0"
      },
      "execution_count": 2,
      "outputs": [
        {
          "output_type": "stream",
          "name": "stdout",
          "text": [
            "2.15.0\n"
          ]
        }
      ]
    },
    {
      "cell_type": "markdown",
      "source": [
        "## Sentiment analysis\n",
        "First of all what is sentiment analysis. This is the process of determining emotional tone expressed in a text. It can either be negative, positive or neutral."
      ],
      "metadata": {
        "id": "a-CCg7ua2QW3"
      }
    },
    {
      "cell_type": "markdown",
      "source": [
        "## Data\n",
        "In this project we shall use the Large Movie Review Dataset that contains the text of 50,000 movie reviews from the Internet Movie Database. These will be split into 25000 review for training and 25000 reviews for testing"
      ],
      "metadata": {
        "id": "VDWAEh2y2tha"
      }
    },
    {
      "cell_type": "markdown",
      "source": [
        "## Downloading and exploring the IMDB dataset"
      ],
      "metadata": {
        "id": "jWzZj7tD3HUg"
      }
    },
    {
      "cell_type": "code",
      "source": [
        "url = \"https://ai.stanford.edu/~amaas/data/sentiment/aclImdb_v1.tar.gz\"\n",
        "\n",
        "\n",
        "dataset = tf.keras.utils.get_file(\"aclImdb_v1\", url,\n",
        "                                    untar=True, cache_dir='.',\n",
        "                                    cache_subdir='')\n"
      ],
      "metadata": {
        "id": "XVLt5me91RQH"
      },
      "execution_count": null,
      "outputs": []
    }
  ]
}